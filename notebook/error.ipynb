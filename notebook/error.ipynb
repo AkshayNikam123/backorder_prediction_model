{
 "cells": [
  {
   "cell_type": "code",
   "execution_count": 1,
   "metadata": {},
   "outputs": [],
   "source": [
    "file_path = r\"D:\\test_project\\internship_backorder_prediction_project\\backorder\\artifact\\data_transformation\\2023-07-24-00-21-04\\transformed_data\\train\\backorderdata.npz\""
   ]
  },
  {
   "cell_type": "code",
   "execution_count": 3,
   "metadata": {},
   "outputs": [],
   "source": [
    "import numpy as np\n",
    "\n",
    "# Load the .npz file\n",
    "data = np.load(file_path, allow_pickle=True)"
   ]
  },
  {
   "cell_type": "code",
   "execution_count": 4,
   "metadata": {},
   "outputs": [
    {
     "data": {
      "text/plain": [
       "array([[-0.009070058851512642, -0.8533613346884861, -0.00729019719637766,\n",
       "        ..., 0.02199643372449165, -0.021996433724492042, 'No'],\n",
       "       [-0.011620219053168956, 0.1581158402110046, -0.021831541113446443,\n",
       "        ..., 0.02199643372449165, -0.021996433724492042, 'No'],\n",
       "       [-0.011463286117682414, -0.5643678561457744,\n",
       "        -0.021831541113446443, ..., 0.02199643372449165,\n",
       "        -0.021996433724492042, 'No'],\n",
       "       ...,\n",
       "       [-0.008991592383769372, -0.8533613346884861,\n",
       "        -0.021362465503218415, ..., 0.02199643372449165,\n",
       "        -0.021996433724492042, 'No'],\n",
       "       [-0.009383924722485728, 0.1581158402110046, 0.031643078452548434,\n",
       "        ..., 0.02199643372449165, -0.021996433724492042, 'No'],\n",
       "       [0.0023271955881975013, 0.013619100939648798,\n",
       "        -0.021831541113446443, ..., 0.02199643372449165,\n",
       "        -0.021996433724492042, 'No']], dtype=object)"
      ]
     },
     "execution_count": 4,
     "metadata": {},
     "output_type": "execute_result"
    }
   ],
   "source": [
    "data"
   ]
  },
  {
   "cell_type": "code",
   "execution_count": 5,
   "metadata": {},
   "outputs": [],
   "source": [
    "import pandas as pd"
   ]
  },
  {
   "cell_type": "code",
   "execution_count": 32,
   "metadata": {},
   "outputs": [],
   "source": [
    "backorder_data_frame = pd.read_csv(file_path)"
   ]
  },
  {
   "cell_type": "code",
   "execution_count": 33,
   "metadata": {},
   "outputs": [],
   "source": [
    "backorder_data_frame.drop(columns=['Unnamed: 0.1', 'Unnamed: 0', 'sku'], inplace=True , axis=1)"
   ]
  },
  {
   "cell_type": "code",
   "execution_count": 34,
   "metadata": {},
   "outputs": [
    {
     "data": {
      "text/plain": [
       "Index(['national_inv', 'lead_time', 'in_transit_qty', 'forecast_3_month',\n",
       "       'forecast_6_month', 'forecast_9_month', 'sales_1_month',\n",
       "       'sales_3_month', 'sales_6_month', 'sales_9_month', 'min_bank',\n",
       "       'potential_issue', 'pieces_past_due', 'perf_6_month_avg',\n",
       "       'perf_12_month_avg', 'local_bo_qty', 'deck_risk', 'oe_constraint',\n",
       "       'ppap_risk', 'stop_auto_buy', 'rev_stop', 'went_on_backorder'],\n",
       "      dtype='object')"
      ]
     },
     "execution_count": 34,
     "metadata": {},
     "output_type": "execute_result"
    }
   ],
   "source": [
    "backorder_data_frame.columns"
   ]
  },
  {
   "cell_type": "code",
   "execution_count": 35,
   "metadata": {},
   "outputs": [
    {
     "data": {
      "text/plain": [
       "national_inv         float64\n",
       "lead_time            float64\n",
       "in_transit_qty       float64\n",
       "forecast_3_month     float64\n",
       "forecast_6_month     float64\n",
       "forecast_9_month     float64\n",
       "sales_1_month        float64\n",
       "sales_3_month        float64\n",
       "sales_6_month        float64\n",
       "sales_9_month        float64\n",
       "min_bank             float64\n",
       "potential_issue       object\n",
       "pieces_past_due      float64\n",
       "perf_6_month_avg     float64\n",
       "perf_12_month_avg    float64\n",
       "local_bo_qty         float64\n",
       "deck_risk             object\n",
       "oe_constraint         object\n",
       "ppap_risk             object\n",
       "stop_auto_buy         object\n",
       "rev_stop              object\n",
       "went_on_backorder     object\n",
       "dtype: object"
      ]
     },
     "execution_count": 35,
     "metadata": {},
     "output_type": "execute_result"
    }
   ],
   "source": [
    "backorder_data_frame.dtypes"
   ]
  },
  {
   "cell_type": "code",
   "execution_count": 8,
   "metadata": {},
   "outputs": [],
   "source": [
    "from sklearn.model_selection import StratifiedShuffleSplit\n",
    "strat_train_set = None\n",
    "strat_test_set = None\n",
    "stratified_shuffle_split = StratifiedShuffleSplit(n_splits=1, test_size=0.05, random_state=42)\n",
    "for train_index, test_index in stratified_shuffle_split.split(backorder_data_frame, backorder_data_frame['went_on_backorder'].fillna(backorder_data_frame['went_on_backorder'].mode()[0])):\n",
    "    strat_train_set = backorder_data_frame.loc[train_index]\n",
    "    strat_test_set = backorder_data_frame.loc[test_index]"
   ]
  },
  {
   "cell_type": "code",
   "execution_count": 10,
   "metadata": {},
   "outputs": [],
   "source": [
    "strat_test_set.to_csv(\"backorder.csv.gz\", compression='gzip')"
   ]
  },
  {
   "cell_type": "code",
   "execution_count": 11,
   "metadata": {},
   "outputs": [
    {
     "data": {
      "text/plain": [
       "Unnamed: 0             int64\n",
       "sku                   object\n",
       "national_inv         float64\n",
       "lead_time            float64\n",
       "in_transit_qty       float64\n",
       "forecast_3_month     float64\n",
       "forecast_6_month     float64\n",
       "forecast_9_month     float64\n",
       "sales_1_month        float64\n",
       "sales_3_month        float64\n",
       "sales_6_month        float64\n",
       "sales_9_month        float64\n",
       "min_bank             float64\n",
       "potential_issue       object\n",
       "pieces_past_due      float64\n",
       "perf_6_month_avg     float64\n",
       "perf_12_month_avg    float64\n",
       "local_bo_qty         float64\n",
       "deck_risk             object\n",
       "oe_constraint         object\n",
       "ppap_risk             object\n",
       "stop_auto_buy         object\n",
       "rev_stop              object\n",
       "went_on_backorder     object\n",
       "dtype: object"
      ]
     },
     "execution_count": 11,
     "metadata": {},
     "output_type": "execute_result"
    }
   ],
   "source": [
    "strat_test_set.dtypes"
   ]
  },
  {
   "cell_type": "code",
   "execution_count": null,
   "metadata": {},
   "outputs": [],
   "source": []
  }
 ],
 "metadata": {
  "kernelspec": {
   "display_name": "Python 3",
   "language": "python",
   "name": "python3"
  },
  "language_info": {
   "codemirror_mode": {
    "name": "ipython",
    "version": 3
   },
   "file_extension": ".py",
   "mimetype": "text/x-python",
   "name": "python",
   "nbconvert_exporter": "python",
   "pygments_lexer": "ipython3",
   "version": "3.10.12"
  },
  "orig_nbformat": 4
 },
 "nbformat": 4,
 "nbformat_minor": 2
}
